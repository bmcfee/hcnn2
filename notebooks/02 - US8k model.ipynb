{
 "cells": [
  {
   "cell_type": "code",
   "execution_count": 1,
   "metadata": {
    "collapsed": false
   },
   "outputs": [
    {
     "name": "stderr",
     "output_type": "stream",
     "text": [
      "Using TensorFlow backend.\n"
     ]
    }
   ],
   "source": [
    "import os\n",
    "import json\n",
    "\n",
    "import numpy as np\n",
    "import pandas\n",
    "\n",
    "\n",
    "from keras.models import Sequential\n",
    "from keras.layers import Dense, Conv2D, BatchNormalization, Activation, InputLayer, LeakyReLU, Reshape, Flatten\n",
    "from keras.layers.pooling import MaxPooling1D, MaxPooling2D, AveragePooling1D, AveragePooling2D\n",
    "\n",
    "from keras.utils.np_utils import to_categorical\n",
    "from keras.callbacks import EarlyStopping, ModelCheckpoint\n",
    "\n",
    "from keras.optimizers import Adam\n",
    "\n",
    "import librosa"
   ]
  },
  {
   "cell_type": "code",
   "execution_count": 2,
   "metadata": {
    "collapsed": true
   },
   "outputs": [],
   "source": [
    "def load_index(fold_id, key='train', n=None):\n",
    "    \n",
    "    with open(os.path.join(DESTDIR, 'experiment_{:02d}.json'.format(fold_id)), 'r') as fdesc:\n",
    "        index = json.load(fdesc)[key]\n",
    "    \n",
    "    perm = np.random.permutation(len(index))\n",
    "    if n is not None:\n",
    "        perm = perm[:n]\n",
    "        \n",
    "    index = [index[_] for _ in perm]\n",
    "    \n",
    "    return index"
   ]
  },
  {
   "cell_type": "code",
   "execution_count": 3,
   "metadata": {
    "collapsed": true
   },
   "outputs": [],
   "source": [
    "def preprocess(X):\n",
    "    return librosa.logamplitude(X**2, ref_power=np.max, top_db=80)\n",
    "\n",
    "\n",
    "def load_data(index, n_harm=1):\n",
    "    \n",
    "    X, Y = [], []\n",
    "    for item in index:\n",
    "        with np.load(os.path.join(DESTDIR, 'features', '{}.npz'.format(item['filename']))) as data:\n",
    "            if n_harm is None:\n",
    "                n_harm = data['C'].shape[0]\n",
    "            X.append(preprocess(data['C'][:n_harm]))\n",
    "            Y.append(item['classID'])\n",
    "    \n",
    "    X = np.asarray(X).swapaxes(3, 1)\n",
    "    Y = np.asarray(Y)\n",
    "    \n",
    "    return X, Y"
   ]
  },
  {
   "cell_type": "code",
   "execution_count": 4,
   "metadata": {
    "collapsed": true
   },
   "outputs": [],
   "source": [
    "DESTDIR = '/home/bmcfee/working/UrbanSound8K/'"
   ]
  },
  {
   "cell_type": "code",
   "execution_count": 5,
   "metadata": {
    "collapsed": true
   },
   "outputs": [],
   "source": [
    "FOLD_ID = 1"
   ]
  },
  {
   "cell_type": "code",
   "execution_count": 6,
   "metadata": {
    "collapsed": true
   },
   "outputs": [],
   "source": [
    "index = load_index(FOLD_ID)"
   ]
  },
  {
   "cell_type": "code",
   "execution_count": 7,
   "metadata": {
    "collapsed": true
   },
   "outputs": [],
   "source": [
    "test_index = load_index(FOLD_ID, key='test')"
   ]
  },
  {
   "cell_type": "code",
   "execution_count": 75,
   "metadata": {
    "collapsed": true
   },
   "outputs": [],
   "source": [
    "N_HARM = 1"
   ]
  },
  {
   "cell_type": "code",
   "execution_count": 76,
   "metadata": {
    "collapsed": false
   },
   "outputs": [],
   "source": [
    "X, Y = load_data(index, n_harm=N_HARM)"
   ]
  },
  {
   "cell_type": "code",
   "execution_count": 77,
   "metadata": {
    "collapsed": true
   },
   "outputs": [],
   "source": [
    "Xt, Yt = load_data(test_index, n_harm=N_HARM)"
   ]
  },
  {
   "cell_type": "code",
   "execution_count": 78,
   "metadata": {
    "collapsed": false
   },
   "outputs": [],
   "source": [
    "model = Sequential()\n",
    "\n",
    "model.add(InputLayer(input_shape=X.shape[1:], name='input'))\n",
    "model.add(BatchNormalization())\n",
    "\n",
    "model.add(Conv2D(16, 5, (4 - X.shape[3] + 1) * 5, bias=False))\n",
    "model.add(BatchNormalization())\n",
    "model.add(LeakyReLU(alpha=0.1))\n",
    "\n",
    "model.add(MaxPooling2D(pool_size=(5, 5)))\n",
    "\n",
    "model.add(Conv2D(32, 5, 5,  bias=False))\n",
    "model.add(BatchNormalization())\n",
    "model.add(LeakyReLU(alpha=0.1))\n",
    "\n",
    "#model.add(MaxPooling2D(pool_size=(5, 5)))\n",
    "\n",
    "model.add(Conv2D(64, 3, model.output_shape[2], bias=False))\n",
    "model.add(BatchNormalization())\n",
    "model.add(LeakyReLU(alpha=0.1))\n",
    "\n",
    "\n",
    "model.add(AveragePooling2D(pool_size=(model.output_shape[1], 1)))\n",
    "model.add(Flatten())\n",
    "\n",
    "model.add(Dense(10, activation='softmax'))\n",
    "\n"
   ]
  },
  {
   "cell_type": "code",
   "execution_count": 79,
   "metadata": {
    "collapsed": true
   },
   "outputs": [],
   "source": [
    "model.compile(Adam(), 'categorical_crossentropy', metrics=['accuracy'])"
   ]
  },
  {
   "cell_type": "code",
   "execution_count": 80,
   "metadata": {
    "collapsed": true
   },
   "outputs": [],
   "source": [
    "weight_fn = '/home/bmcfee/working/UrbanSound8K/models_{}.hdf5'.format(N_HARM)"
   ]
  },
  {
   "cell_type": "code",
   "execution_count": 81,
   "metadata": {
    "collapsed": false
   },
   "outputs": [
    {
     "name": "stdout",
     "output_type": "stream",
     "text": [
      "Train on 5894 samples, validate on 1965 samples\n",
      "Epoch 1/30\n",
      "5894/5894 [==============================] - 15s - loss: 1.1481 - acc: 0.6293 - val_loss: 1.1584 - val_acc: 0.6514\n",
      "Epoch 2/30\n",
      "5894/5894 [==============================] - 14s - loss: 0.7174 - acc: 0.7716 - val_loss: 0.8937 - val_acc: 0.6850\n",
      "Epoch 3/30\n",
      "5894/5894 [==============================] - 14s - loss: 0.5659 - acc: 0.8275 - val_loss: 0.7026 - val_acc: 0.7730\n",
      "Epoch 4/30\n",
      "5894/5894 [==============================] - 14s - loss: 0.4599 - acc: 0.8627 - val_loss: 0.8426 - val_acc: 0.7155\n",
      "Epoch 5/30\n",
      "5894/5894 [==============================] - 14s - loss: 0.4041 - acc: 0.8794 - val_loss: 1.5553 - val_acc: 0.6148\n",
      "Epoch 6/30\n",
      "5894/5894 [==============================] - 14s - loss: 0.3333 - acc: 0.8982 - val_loss: 0.9380 - val_acc: 0.6992\n",
      "Epoch 7/30\n",
      "5894/5894 [==============================] - 14s - loss: 0.2719 - acc: 0.9204 - val_loss: 0.4852 - val_acc: 0.8188\n",
      "Epoch 8/30\n",
      "5894/5894 [==============================] - 14s - loss: 0.2375 - acc: 0.9303 - val_loss: 0.4467 - val_acc: 0.8606\n",
      "Epoch 9/30\n",
      "5894/5894 [==============================] - 14s - loss: 0.2334 - acc: 0.9293 - val_loss: 0.3639 - val_acc: 0.8931\n",
      "Epoch 10/30\n",
      "5894/5894 [==============================] - 14s - loss: 0.1927 - acc: 0.9403 - val_loss: 0.4208 - val_acc: 0.8534\n",
      "Epoch 11/30\n",
      "5894/5894 [==============================] - 14s - loss: 0.1480 - acc: 0.9584 - val_loss: 0.2905 - val_acc: 0.8997\n",
      "Epoch 12/30\n",
      "5894/5894 [==============================] - 14s - loss: 0.1409 - acc: 0.9600 - val_loss: 0.3062 - val_acc: 0.8926\n",
      "Epoch 13/30\n",
      "5894/5894 [==============================] - 14s - loss: 0.1395 - acc: 0.9603 - val_loss: 0.3370 - val_acc: 0.8819\n",
      "Epoch 14/30\n",
      "5894/5894 [==============================] - 14s - loss: 0.1197 - acc: 0.9656 - val_loss: 0.3890 - val_acc: 0.8738\n",
      "Epoch 15/30\n",
      "5894/5894 [==============================] - 14s - loss: 0.1245 - acc: 0.9676 - val_loss: 0.3454 - val_acc: 0.8982\n",
      "Epoch 16/30\n",
      "5894/5894 [==============================] - 14s - loss: 0.1015 - acc: 0.9710 - val_loss: 0.3474 - val_acc: 0.8901\n",
      "Epoch 17/30\n",
      "5894/5894 [==============================] - 14s - loss: 0.0728 - acc: 0.9798 - val_loss: 0.2790 - val_acc: 0.9074\n",
      "Epoch 18/30\n",
      "5894/5894 [==============================] - 14s - loss: 0.0804 - acc: 0.9795 - val_loss: 0.2647 - val_acc: 0.9150\n",
      "Epoch 19/30\n",
      "5894/5894 [==============================] - 14s - loss: 0.1425 - acc: 0.9552 - val_loss: 0.2620 - val_acc: 0.9145\n",
      "Epoch 20/30\n",
      "5894/5894 [==============================] - 14s - loss: 0.0658 - acc: 0.9834 - val_loss: 0.2432 - val_acc: 0.9196\n",
      "Epoch 21/30\n",
      "5894/5894 [==============================] - 14s - loss: 0.0570 - acc: 0.9866 - val_loss: 0.2324 - val_acc: 0.9298\n",
      "Epoch 22/30\n",
      "5894/5894 [==============================] - 14s - loss: 0.0546 - acc: 0.9854 - val_loss: 0.3070 - val_acc: 0.9053\n",
      "Epoch 23/30\n",
      "5894/5894 [==============================] - 14s - loss: 0.0517 - acc: 0.9885 - val_loss: 0.2515 - val_acc: 0.9186\n",
      "Epoch 24/30\n",
      "5894/5894 [==============================] - 14s - loss: 0.0535 - acc: 0.9849 - val_loss: 0.2744 - val_acc: 0.9089\n",
      "Epoch 25/30\n",
      "5894/5894 [==============================] - 14s - loss: 0.0483 - acc: 0.9868 - val_loss: 0.2939 - val_acc: 0.9109\n",
      "Epoch 26/30\n",
      "5894/5894 [==============================] - 14s - loss: 0.0468 - acc: 0.9885 - val_loss: 0.3125 - val_acc: 0.9074\n",
      "Epoch 27/30\n",
      "5894/5894 [==============================] - 14s - loss: 0.0587 - acc: 0.9825 - val_loss: 0.3330 - val_acc: 0.8941\n",
      "Epoch 28/30\n",
      "5894/5894 [==============================] - 14s - loss: 0.0428 - acc: 0.9905 - val_loss: 0.2750 - val_acc: 0.9125\n",
      "Epoch 29/30\n",
      "5894/5894 [==============================] - 14s - loss: 0.0964 - acc: 0.9674 - val_loss: 0.4084 - val_acc: 0.8784\n",
      "Epoch 30/30\n",
      "5894/5894 [==============================] - 14s - loss: 0.1157 - acc: 0.9615 - val_loss: 0.2457 - val_acc: 0.9196\n"
     ]
    }
   ],
   "source": [
    "history = model.fit(X, to_categorical(Y, nb_classes=10),\n",
    "                    callbacks=[EarlyStopping('val_loss', patience=10),\n",
    "                               ModelCheckpoint(weight_fn, save_best_only=True)],\n",
    "                    validation_split=0.25, batch_size=32, shuffle=True,\n",
    "                    nb_epoch=30)"
   ]
  },
  {
   "cell_type": "code",
   "execution_count": 82,
   "metadata": {
    "collapsed": false
   },
   "outputs": [],
   "source": [
    "model.load_weights(weight_fn)"
   ]
  },
  {
   "cell_type": "code",
   "execution_count": 83,
   "metadata": {
    "collapsed": false
   },
   "outputs": [
    {
     "name": "stdout",
     "output_type": "stream",
     "text": [
      "1\n",
      "873/873 [==============================] - 0s     \n"
     ]
    },
    {
     "data": {
      "text/plain": [
       "[1.3314544711462548, 0.70103092797160282]"
      ]
     },
     "execution_count": 83,
     "metadata": {},
     "output_type": "execute_result"
    }
   ],
   "source": [
    "print(N_HARM)\n",
    "model.evaluate(Xt, to_categorical(Yt))"
   ]
  },
  {
   "cell_type": "code",
   "execution_count": 74,
   "metadata": {
    "collapsed": false
   },
   "outputs": [
    {
     "name": "stdout",
     "output_type": "stream",
     "text": [
      "2\n",
      "873/873 [==============================] - 1s     \n"
     ]
    },
    {
     "data": {
      "text/plain": [
       "[2.1324297761862492, 0.65063001165958068]"
      ]
     },
     "execution_count": 74,
     "metadata": {},
     "output_type": "execute_result"
    }
   ],
   "source": [
    "print(N_HARM)\n",
    "model.evaluate(Xt, to_categorical(Yt))"
   ]
  },
  {
   "cell_type": "code",
   "execution_count": 64,
   "metadata": {
    "collapsed": false
   },
   "outputs": [
    {
     "name": "stdout",
     "output_type": "stream",
     "text": [
      "3\n",
      "873/873 [==============================] - 2s     \n"
     ]
    },
    {
     "data": {
      "text/plain": [
       "[1.8588614084193524, 0.65979381470609233]"
      ]
     },
     "execution_count": 64,
     "metadata": {},
     "output_type": "execute_result"
    }
   ],
   "source": [
    "print(N_HARM)\n",
    "model.evaluate(Xt, to_categorical(Yt))"
   ]
  },
  {
   "cell_type": "code",
   "execution_count": 55,
   "metadata": {
    "collapsed": false
   },
   "outputs": [
    {
     "name": "stdout",
     "output_type": "stream",
     "text": [
      "4\n",
      "873/873 [==============================] - 2s     \n"
     ]
    },
    {
     "data": {
      "text/plain": [
       "[1.9130964667663268, 0.70332187871616181]"
      ]
     },
     "execution_count": 55,
     "metadata": {},
     "output_type": "execute_result"
    }
   ],
   "source": [
    "print(N_HARM)\n",
    "model.evaluate(Xt, to_categorical(Yt))"
   ]
  }
 ],
 "metadata": {
  "anaconda-cloud": {},
  "kernelspec": {
   "display_name": "Python [conda env:py35]",
   "language": "python",
   "name": "conda-env-py35-py"
  },
  "language_info": {
   "codemirror_mode": {
    "name": "ipython",
    "version": 3
   },
   "file_extension": ".py",
   "mimetype": "text/x-python",
   "name": "python",
   "nbconvert_exporter": "python",
   "pygments_lexer": "ipython3",
   "version": "3.5.2"
  }
 },
 "nbformat": 4,
 "nbformat_minor": 1
}
