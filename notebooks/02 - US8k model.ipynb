{
 "cells": [
  {
   "cell_type": "code",
   "execution_count": 3,
   "metadata": {
    "collapsed": false
   },
   "outputs": [
    {
     "name": "stderr",
     "output_type": "stream",
     "text": [
      "Using TensorFlow backend.\n"
     ]
    }
   ],
   "source": [
    "import os\n",
    "import json\n",
    "\n",
    "import numpy as np\n",
    "import pandas\n",
    "\n",
    "\n",
    "from keras.models import Sequential\n",
    "from keras.layers import Dense, Conv2D, BatchNormalization, Activation, InputLayer, LeakyReLU, Reshape, Flatten\n",
    "from keras.layers.pooling import MaxPooling1D, MaxPooling2D, AveragePooling1D, AveragePooling2D\n",
    "\n",
    "from keras.utils.np_utils import to_categorical\n",
    "from keras.callbacks import EarlyStopping, ModelCheckpoint\n",
    "\n",
    "from keras.optimizers import Adam\n",
    "\n",
    "import librosa"
   ]
  },
  {
   "cell_type": "code",
   "execution_count": 4,
   "metadata": {
    "collapsed": true
   },
   "outputs": [],
   "source": [
    "def load_index(fold_id, key='train', n=None):\n",
    "    \n",
    "    with open(os.path.join(DESTDIR, 'experiment_{:02d}.json'.format(fold_id)), 'r') as fdesc:\n",
    "        index = json.load(fdesc)[key]\n",
    "    \n",
    "    perm = np.random.permutation(len(index))\n",
    "    if n is not None:\n",
    "        perm = perm[:n]\n",
    "        \n",
    "    index = [index[_] for _ in perm]\n",
    "    \n",
    "    return index"
   ]
  },
  {
   "cell_type": "code",
   "execution_count": 5,
   "metadata": {
    "collapsed": true
   },
   "outputs": [],
   "source": [
    "def preprocess(X):\n",
    "    return librosa.logamplitude(X**2, ref_power=np.max, top_db=80)\n",
    "\n",
    "\n",
    "def load_data(index, n_harm=1):\n",
    "    \n",
    "    X, Y = [], []\n",
    "    for item in index:\n",
    "        with np.load(os.path.join(DESTDIR, 'features', '{}.npz'.format(item['filename']))) as data:\n",
    "            if n_harm is None:\n",
    "                n_harm = data['C'].shape[0]\n",
    "            X.append(preprocess(data['C'][:n_harm]))\n",
    "            Y.append(item['classID'])\n",
    "    \n",
    "    X = np.asarray(X).swapaxes(3, 1)\n",
    "    Y = np.asarray(Y)\n",
    "    \n",
    "    return X, Y"
   ]
  },
  {
   "cell_type": "code",
   "execution_count": 6,
   "metadata": {
    "collapsed": true
   },
   "outputs": [],
   "source": [
    "DESTDIR = '/home/bmcfee/working/UrbanSound8K/'"
   ]
  },
  {
   "cell_type": "code",
   "execution_count": 7,
   "metadata": {
    "collapsed": true
   },
   "outputs": [],
   "source": [
    "FOLD_ID = 1"
   ]
  },
  {
   "cell_type": "code",
   "execution_count": 8,
   "metadata": {
    "collapsed": true
   },
   "outputs": [],
   "source": [
    "index = load_index(FOLD_ID)"
   ]
  },
  {
   "cell_type": "code",
   "execution_count": 9,
   "metadata": {
    "collapsed": true
   },
   "outputs": [],
   "source": [
    "test_index = load_index(FOLD_ID, key='test')"
   ]
  },
  {
   "cell_type": "code",
   "execution_count": 51,
   "metadata": {
    "collapsed": true
   },
   "outputs": [],
   "source": [
    "N_HARM = 4"
   ]
  },
  {
   "cell_type": "code",
   "execution_count": 52,
   "metadata": {
    "collapsed": false
   },
   "outputs": [],
   "source": [
    "X, Y = load_data(index, n_harm=N_HARM)"
   ]
  },
  {
   "cell_type": "code",
   "execution_count": 53,
   "metadata": {
    "collapsed": true
   },
   "outputs": [],
   "source": [
    "Xt, Yt = load_data(test_index, n_harm=N_HARM)"
   ]
  },
  {
   "cell_type": "code",
   "execution_count": 54,
   "metadata": {
    "collapsed": false
   },
   "outputs": [],
   "source": [
    "model = Sequential()\n",
    "\n",
    "model.add(InputLayer(input_shape=X.shape[1:], name='input'))\n",
    "model.add(BatchNormalization())\n",
    "\n",
    "# 9 bins = +- 1 semitone\n",
    "# 4 * 9 bins = 1 octave span\n",
    "model.add(Conv2D(8, 5, (4 - X.shape[3] + 1) * 9, bias=False))\n",
    "model.add(BatchNormalization())\n",
    "model.add(LeakyReLU(alpha=0.1))\n",
    "\n",
    "model.add(MaxPooling2D(pool_size=(5, 5)))\n",
    "\n",
    "model.add(Conv2D(16, 5, 5,  bias=False))\n",
    "model.add(BatchNormalization())\n",
    "model.add(LeakyReLU(alpha=0.1))\n",
    "\n",
    "#model.add(MaxPooling2D(pool_size=(5, 5)))\n",
    "\n",
    "#model.add(Conv2D(16, 3, model.output_shape[2], bias=False))\n",
    "#model.add(BatchNormalization())\n",
    "#model.add(LeakyReLU(alpha=0.1))\n",
    "\n",
    "\n",
    "#model.add(AveragePooling2D(pool_size=(model.output_shape[1], 1)))\n",
    "model.add(MaxPooling2D(pool_size=(model.output_shape[1], 1)))\n",
    "model.add(Flatten())\n",
    "\n",
    "model.add(Dense(10, activation='softmax'))\n",
    "\n"
   ]
  },
  {
   "cell_type": "code",
   "execution_count": 55,
   "metadata": {
    "collapsed": true
   },
   "outputs": [],
   "source": [
    "model.compile(Adam(), 'categorical_crossentropy', metrics=['accuracy'])"
   ]
  },
  {
   "cell_type": "code",
   "execution_count": 56,
   "metadata": {
    "collapsed": true
   },
   "outputs": [],
   "source": [
    "weight_fn = '/home/bmcfee/working/UrbanSound8K/models_{}.hdf5'.format(N_HARM)"
   ]
  },
  {
   "cell_type": "code",
   "execution_count": 57,
   "metadata": {
    "collapsed": false
   },
   "outputs": [
    {
     "name": "stdout",
     "output_type": "stream",
     "text": [
      "Train on 5894 samples, validate on 1965 samples\n",
      "Epoch 1/30\n",
      "5894/5894 [==============================] - 24s - loss: 1.6565 - acc: 0.4141 - val_loss: 1.4046 - val_acc: 0.5053\n",
      "Epoch 2/30\n",
      "5894/5894 [==============================] - 24s - loss: 1.0514 - acc: 0.6469 - val_loss: 1.0905 - val_acc: 0.5995\n",
      "Epoch 3/30\n",
      "5894/5894 [==============================] - 24s - loss: 0.8227 - acc: 0.7346 - val_loss: 1.0001 - val_acc: 0.6814\n",
      "Epoch 4/30\n",
      "5894/5894 [==============================] - 24s - loss: 0.7003 - acc: 0.7749 - val_loss: 0.7753 - val_acc: 0.7369\n",
      "Epoch 5/30\n",
      "5894/5894 [==============================] - 24s - loss: 0.6186 - acc: 0.8071 - val_loss: 0.7330 - val_acc: 0.7532\n",
      "Epoch 6/30\n",
      "5894/5894 [==============================] - 24s - loss: 0.5456 - acc: 0.8281 - val_loss: 0.6828 - val_acc: 0.7684\n",
      "Epoch 7/30\n",
      "5894/5894 [==============================] - 23s - loss: 0.5109 - acc: 0.8359 - val_loss: 0.6950 - val_acc: 0.7710\n",
      "Epoch 8/30\n",
      "5894/5894 [==============================] - 24s - loss: 0.4604 - acc: 0.8560 - val_loss: 0.7391 - val_acc: 0.7527\n",
      "Epoch 9/30\n",
      "5894/5894 [==============================] - 24s - loss: 0.4295 - acc: 0.8622 - val_loss: 0.6810 - val_acc: 0.7715\n",
      "Epoch 10/30\n",
      "5894/5894 [==============================] - 24s - loss: 0.4124 - acc: 0.8700 - val_loss: 0.5571 - val_acc: 0.8198\n",
      "Epoch 11/30\n",
      "5894/5894 [==============================] - 24s - loss: 0.3704 - acc: 0.8856 - val_loss: 0.5278 - val_acc: 0.8310\n",
      "Epoch 12/30\n",
      "5894/5894 [==============================] - 24s - loss: 0.3465 - acc: 0.8904 - val_loss: 0.6784 - val_acc: 0.7837\n",
      "Epoch 13/30\n",
      "5894/5894 [==============================] - 24s - loss: 0.3185 - acc: 0.9004 - val_loss: 0.5884 - val_acc: 0.8031\n",
      "Epoch 14/30\n",
      "5894/5894 [==============================] - 24s - loss: 0.2945 - acc: 0.9057 - val_loss: 0.5690 - val_acc: 0.8046\n",
      "Epoch 15/30\n",
      "5894/5894 [==============================] - 24s - loss: 0.2745 - acc: 0.9133 - val_loss: 0.5094 - val_acc: 0.8341\n",
      "Epoch 16/30\n",
      "5894/5894 [==============================] - 24s - loss: 0.2457 - acc: 0.9267 - val_loss: 0.8604 - val_acc: 0.7262\n",
      "Epoch 17/30\n",
      "5894/5894 [==============================] - 24s - loss: 0.2396 - acc: 0.9259 - val_loss: 0.6452 - val_acc: 0.7873\n",
      "Epoch 18/30\n",
      "5894/5894 [==============================] - 24s - loss: 0.2426 - acc: 0.9220 - val_loss: 0.5045 - val_acc: 0.8321\n",
      "Epoch 19/30\n",
      "5894/5894 [==============================] - 24s - loss: 0.2195 - acc: 0.9306 - val_loss: 0.5898 - val_acc: 0.8071\n",
      "Epoch 20/30\n",
      "5894/5894 [==============================] - 24s - loss: 0.2111 - acc: 0.9382 - val_loss: 0.4632 - val_acc: 0.8601\n",
      "Epoch 21/30\n",
      "5894/5894 [==============================] - 24s - loss: 0.1963 - acc: 0.9413 - val_loss: 0.6921 - val_acc: 0.7868\n",
      "Epoch 22/30\n",
      "5894/5894 [==============================] - 24s - loss: 0.1799 - acc: 0.9455 - val_loss: 0.5754 - val_acc: 0.8173\n",
      "Epoch 23/30\n",
      "5894/5894 [==============================] - 24s - loss: 0.1702 - acc: 0.9459 - val_loss: 0.4990 - val_acc: 0.8448\n",
      "Epoch 24/30\n",
      "5894/5894 [==============================] - 24s - loss: 0.1554 - acc: 0.9545 - val_loss: 0.4839 - val_acc: 0.8529\n",
      "Epoch 25/30\n",
      "5894/5894 [==============================] - 24s - loss: 0.1483 - acc: 0.9561 - val_loss: 0.6058 - val_acc: 0.8056\n",
      "Epoch 26/30\n",
      "5894/5894 [==============================] - 24s - loss: 0.1398 - acc: 0.9601 - val_loss: 0.5052 - val_acc: 0.8489\n",
      "Epoch 27/30\n",
      "5894/5894 [==============================] - 24s - loss: 0.1344 - acc: 0.9613 - val_loss: 0.5794 - val_acc: 0.8183\n",
      "Epoch 28/30\n",
      "5894/5894 [==============================] - 24s - loss: 0.1209 - acc: 0.9649 - val_loss: 0.4912 - val_acc: 0.8529\n",
      "Epoch 29/30\n",
      "5894/5894 [==============================] - 24s - loss: 0.1263 - acc: 0.9618 - val_loss: 0.4619 - val_acc: 0.8585\n",
      "Epoch 30/30\n",
      "5894/5894 [==============================] - 23s - loss: 0.1169 - acc: 0.9664 - val_loss: 0.5133 - val_acc: 0.8529\n"
     ]
    }
   ],
   "source": [
    "history = model.fit(X, to_categorical(Y, nb_classes=10),\n",
    "                    callbacks=[EarlyStopping('val_loss', patience=10),\n",
    "                               ModelCheckpoint(weight_fn, save_best_only=True)],\n",
    "                    validation_split=0.25, batch_size=32, shuffle=True,\n",
    "                    nb_epoch=30)"
   ]
  },
  {
   "cell_type": "code",
   "execution_count": 58,
   "metadata": {
    "collapsed": false
   },
   "outputs": [],
   "source": [
    "model.load_weights(weight_fn)"
   ]
  },
  {
   "cell_type": "code",
   "execution_count": 31,
   "metadata": {
    "collapsed": false
   },
   "outputs": [
    {
     "name": "stdout",
     "output_type": "stream",
     "text": [
      "1\n",
      "864/873 [============================>.] - ETA: 0s"
     ]
    },
    {
     "data": {
      "text/plain": [
       "[1.3198909005758279, 0.71363115699840163]"
      ]
     },
     "execution_count": 31,
     "metadata": {},
     "output_type": "execute_result"
    }
   ],
   "source": [
    "print(N_HARM)\n",
    "model.evaluate(Xt, to_categorical(Yt))"
   ]
  },
  {
   "cell_type": "code",
   "execution_count": 40,
   "metadata": {
    "collapsed": false
   },
   "outputs": [
    {
     "name": "stdout",
     "output_type": "stream",
     "text": [
      "2\n",
      "873/873 [==============================] - 1s     \n"
     ]
    },
    {
     "data": {
      "text/plain": [
       "[0.95194993129710559, 0.71363115706667735]"
      ]
     },
     "execution_count": 40,
     "metadata": {},
     "output_type": "execute_result"
    }
   ],
   "source": [
    "print(N_HARM)\n",
    "model.evaluate(Xt, to_categorical(Yt))"
   ]
  },
  {
   "cell_type": "code",
   "execution_count": 50,
   "metadata": {
    "collapsed": false
   },
   "outputs": [
    {
     "name": "stdout",
     "output_type": "stream",
     "text": [
      "3\n",
      "873/873 [==============================] - 1s     \n"
     ]
    },
    {
     "data": {
      "text/plain": [
       "[1.2872762315461725, 0.68155784664285146]"
      ]
     },
     "execution_count": 50,
     "metadata": {},
     "output_type": "execute_result"
    }
   ],
   "source": [
    "print(N_HARM)\n",
    "model.evaluate(Xt, to_categorical(Yt))"
   ]
  },
  {
   "cell_type": "code",
   "execution_count": 60,
   "metadata": {
    "collapsed": false
   },
   "outputs": [
    {
     "name": "stdout",
     "output_type": "stream",
     "text": [
      "4\n",
      "873/873 [==============================] - 1s     \n"
     ]
    },
    {
     "data": {
      "text/plain": [
       "[1.1552962344673219, 0.69072164975763872]"
      ]
     },
     "execution_count": 60,
     "metadata": {},
     "output_type": "execute_result"
    }
   ],
   "source": [
    "print(N_HARM)\n",
    "model.evaluate(Xt, to_categorical(Yt))"
   ]
  }
 ],
 "metadata": {
  "anaconda-cloud": {},
  "kernelspec": {
   "display_name": "Python [conda env:py35]",
   "language": "python",
   "name": "conda-env-py35-py"
  },
  "language_info": {
   "codemirror_mode": {
    "name": "ipython",
    "version": 3
   },
   "file_extension": ".py",
   "mimetype": "text/x-python",
   "name": "python",
   "nbconvert_exporter": "python",
   "pygments_lexer": "ipython3",
   "version": "3.5.2"
  }
 },
 "nbformat": 4,
 "nbformat_minor": 1
}
