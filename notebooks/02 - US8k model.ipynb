{
 "cells": [
  {
   "cell_type": "code",
   "execution_count": 81,
   "metadata": {
    "collapsed": false
   },
   "outputs": [],
   "source": [
    "import os\n",
    "import json\n",
    "\n",
    "import numpy as np\n",
    "import pandas\n",
    "\n",
    "\n",
    "from keras.models import Sequential\n",
    "from keras.layers import Dense, Conv2D, BatchNormalization, Activation, InputLayer, LeakyReLU, Reshape, Flatten\n",
    "from keras.layers.pooling import MaxPooling1D, MaxPooling2D, AveragePooling1D, AveragePooling2D\n",
    "\n",
    "from keras.utils.np_utils import to_categorical\n",
    "from keras.callbacks import EarlyStopping, ModelCheckpoint\n",
    "\n",
    "from keras.optimizers import Adam\n",
    "\n",
    "import librosa"
   ]
  },
  {
   "cell_type": "code",
   "execution_count": 3,
   "metadata": {
    "collapsed": true
   },
   "outputs": [],
   "source": [
    "def load_index(fold_id, key='train', n=None):\n",
    "    \n",
    "    with open(os.path.join(DESTDIR, 'experiment_{:02d}.json'.format(fold_id)), 'r') as fdesc:\n",
    "        index = json.load(fdesc)[key]\n",
    "    \n",
    "    perm = np.random.permutation(len(index))\n",
    "    if n is not None:\n",
    "        perm = perm[:n]\n",
    "        \n",
    "    index = [index[_] for _ in perm]\n",
    "    \n",
    "    return index"
   ]
  },
  {
   "cell_type": "code",
   "execution_count": 33,
   "metadata": {
    "collapsed": true
   },
   "outputs": [],
   "source": [
    "def preprocess(X):\n",
    "    return librosa.logamplitude(X**2, ref_power=np.max, top_db=80)\n",
    "\n",
    "\n",
    "def load_data(index, n_harm=1):\n",
    "    \n",
    "    X, Y = [], []\n",
    "    for item in index:\n",
    "        with np.load(os.path.join(DESTDIR, 'features', '{}.npz'.format(item['filename']))) as data:\n",
    "            if n_harm is None:\n",
    "                n_harm = data['C'].shape[0]\n",
    "            X.append(preprocess(data['C'][:n_harm]))\n",
    "            Y.append(item['classID'])\n",
    "    \n",
    "    X = np.asarray(X).swapaxes(3, 1)\n",
    "    Y = np.asarray(Y)\n",
    "    \n",
    "    return X, Y"
   ]
  },
  {
   "cell_type": "code",
   "execution_count": 5,
   "metadata": {
    "collapsed": true
   },
   "outputs": [],
   "source": [
    "DESTDIR = '/home/bmcfee/working/UrbanSound8K/'"
   ]
  },
  {
   "cell_type": "code",
   "execution_count": 280,
   "metadata": {
    "collapsed": true
   },
   "outputs": [],
   "source": [
    "FOLD_ID = 1"
   ]
  },
  {
   "cell_type": "code",
   "execution_count": 281,
   "metadata": {
    "collapsed": true
   },
   "outputs": [],
   "source": [
    "index = load_index(FOLD_ID)"
   ]
  },
  {
   "cell_type": "code",
   "execution_count": 282,
   "metadata": {
    "collapsed": true
   },
   "outputs": [],
   "source": [
    "test_index = load_index(FOLD_ID, key='test')"
   ]
  },
  {
   "cell_type": "code",
   "execution_count": 465,
   "metadata": {
    "collapsed": true
   },
   "outputs": [],
   "source": [
    "N_HARM = 4"
   ]
  },
  {
   "cell_type": "code",
   "execution_count": 466,
   "metadata": {
    "collapsed": false
   },
   "outputs": [],
   "source": [
    "X, Y = load_data(index, n_harm=N_HARM)"
   ]
  },
  {
   "cell_type": "code",
   "execution_count": 467,
   "metadata": {
    "collapsed": true
   },
   "outputs": [],
   "source": [
    "Xt, Yt = load_data(test_index, n_harm=N_HARM)"
   ]
  },
  {
   "cell_type": "code",
   "execution_count": 468,
   "metadata": {
    "collapsed": false
   },
   "outputs": [],
   "source": [
    "model = Sequential()\n",
    "\n",
    "model.add(InputLayer(input_shape=X.shape[1:], name='input'))\n",
    "model.add(BatchNormalization())\n",
    "\n",
    "model.add(Conv2D(16, (4 - X.shape[3] + 1) * 5, 5,  bias=False))\n",
    "model.add(BatchNormalization())\n",
    "model.add(LeakyReLU(alpha=0.1))\n",
    "\n",
    "model.add(MaxPooling2D(pool_size=(5, 5)))\n",
    "\n",
    "model.add(Conv2D(32, 5, 5,  bias=False))\n",
    "model.add(BatchNormalization())\n",
    "model.add(LeakyReLU(alpha=0.1))\n",
    "\n",
    "model.add(MaxPooling2D(pool_size=(5, 5)))\n",
    "\n",
    "model.add(Conv2D(64, 3, model.output_shape[2], bias=False))\n",
    "model.add(BatchNormalization())\n",
    "model.add(LeakyReLU(alpha=0.1))\n",
    "\n",
    "\n",
    "model.add(AveragePooling2D(pool_size=(model.output_shape[1], 1)))\n",
    "model.add(Flatten())\n",
    "\n",
    "model.add(Dense(10, activation='softmax'))\n",
    "\n"
   ]
  },
  {
   "cell_type": "code",
   "execution_count": 469,
   "metadata": {
    "collapsed": true
   },
   "outputs": [],
   "source": [
    "model.compile(Adam(), 'categorical_crossentropy', metrics=['accuracy'])"
   ]
  },
  {
   "cell_type": "code",
   "execution_count": 470,
   "metadata": {
    "collapsed": true
   },
   "outputs": [],
   "source": [
    "weight_fn = '/home/bmcfee/working/UrbanSound8K/models_{}.hdf5'.format(N_HARM)"
   ]
  },
  {
   "cell_type": "code",
   "execution_count": 471,
   "metadata": {
    "collapsed": false
   },
   "outputs": [
    {
     "name": "stdout",
     "output_type": "stream",
     "text": [
      "Train on 5894 samples, validate on 1965 samples\n",
      "Epoch 1/30\n",
      "5894/5894 [==============================] - 38s - loss: 1.1963 - acc: 0.6105 - val_loss: 1.6615 - val_acc: 0.3954\n",
      "Epoch 2/30\n",
      "5894/5894 [==============================] - 31s - loss: 0.7779 - acc: 0.7545 - val_loss: 1.0507 - val_acc: 0.6336\n",
      "Epoch 3/30\n",
      "5894/5894 [==============================] - 29s - loss: 0.5829 - acc: 0.8195 - val_loss: 1.0753 - val_acc: 0.6977\n",
      "Epoch 4/30\n",
      "5894/5894 [==============================] - 28s - loss: 0.4924 - acc: 0.8531 - val_loss: 1.2194 - val_acc: 0.6494\n",
      "Epoch 5/30\n",
      "5894/5894 [==============================] - 27s - loss: 0.4074 - acc: 0.8756 - val_loss: 0.9454 - val_acc: 0.6865\n",
      "Epoch 6/30\n",
      "5894/5894 [==============================] - 29s - loss: 0.3309 - acc: 0.9031 - val_loss: 0.5752 - val_acc: 0.8087\n",
      "Epoch 7/30\n",
      "5894/5894 [==============================] - 27s - loss: 0.3017 - acc: 0.9074 - val_loss: 0.8832 - val_acc: 0.7272\n",
      "Epoch 8/30\n",
      "5894/5894 [==============================] - 27s - loss: 0.2382 - acc: 0.9276 - val_loss: 0.5964 - val_acc: 0.8020\n",
      "Epoch 9/30\n",
      "5894/5894 [==============================] - 27s - loss: 0.2025 - acc: 0.9399 - val_loss: 0.6955 - val_acc: 0.7791\n",
      "Epoch 10/30\n",
      "5894/5894 [==============================] - 27s - loss: 0.2062 - acc: 0.9372 - val_loss: 0.8125 - val_acc: 0.7608\n",
      "Epoch 11/30\n",
      "5894/5894 [==============================] - 27s - loss: 0.1666 - acc: 0.9481 - val_loss: 0.4986 - val_acc: 0.8331\n",
      "Epoch 12/30\n",
      "5894/5894 [==============================] - 30s - loss: 0.1543 - acc: 0.9533 - val_loss: 0.6390 - val_acc: 0.8036\n",
      "Epoch 13/30\n",
      "5894/5894 [==============================] - 28s - loss: 0.1284 - acc: 0.9640 - val_loss: 0.5244 - val_acc: 0.8366\n",
      "Epoch 14/30\n",
      "5894/5894 [==============================] - 27s - loss: 0.1187 - acc: 0.9647 - val_loss: 0.9573 - val_acc: 0.7455\n",
      "Epoch 15/30\n",
      "5894/5894 [==============================] - 27s - loss: 0.1253 - acc: 0.9642 - val_loss: 0.4077 - val_acc: 0.8697\n",
      "Epoch 16/30\n",
      "5894/5894 [==============================] - 27s - loss: 0.0913 - acc: 0.9742 - val_loss: 0.6548 - val_acc: 0.8173\n",
      "Epoch 17/30\n",
      "5894/5894 [==============================] - 28s - loss: 0.0749 - acc: 0.9815 - val_loss: 0.8357 - val_acc: 0.7567\n",
      "Epoch 18/30\n",
      "5894/5894 [==============================] - 27s - loss: 0.1012 - acc: 0.9705 - val_loss: 0.4333 - val_acc: 0.8697\n",
      "Epoch 19/30\n",
      "5894/5894 [==============================] - 27s - loss: 0.0799 - acc: 0.9756 - val_loss: 0.3903 - val_acc: 0.8809\n",
      "Epoch 20/30\n",
      "5894/5894 [==============================] - 27s - loss: 0.0685 - acc: 0.9807 - val_loss: 0.6530 - val_acc: 0.8198\n",
      "Epoch 21/30\n",
      "5894/5894 [==============================] - 27s - loss: 0.0920 - acc: 0.9727 - val_loss: 0.5529 - val_acc: 0.8402\n",
      "Epoch 22/30\n",
      "5894/5894 [==============================] - 27s - loss: 0.0405 - acc: 0.9915 - val_loss: 0.3978 - val_acc: 0.8784\n",
      "Epoch 23/30\n",
      "5894/5894 [==============================] - 28s - loss: 0.0567 - acc: 0.9842 - val_loss: 0.5163 - val_acc: 0.8611\n",
      "Epoch 24/30\n",
      "5894/5894 [==============================] - 27s - loss: 0.1008 - acc: 0.9683 - val_loss: 0.8413 - val_acc: 0.8092\n",
      "Epoch 25/30\n",
      "5894/5894 [==============================] - 27s - loss: 0.0466 - acc: 0.9883 - val_loss: 0.9605 - val_acc: 0.7573\n",
      "Epoch 26/30\n",
      "5894/5894 [==============================] - 27s - loss: 0.0604 - acc: 0.9810 - val_loss: 0.5167 - val_acc: 0.8611\n",
      "Epoch 27/30\n",
      "5894/5894 [==============================] - 27s - loss: 0.0371 - acc: 0.9922 - val_loss: 0.6330 - val_acc: 0.8412\n",
      "Epoch 28/30\n",
      "5894/5894 [==============================] - 27s - loss: 0.0346 - acc: 0.9913 - val_loss: 0.4428 - val_acc: 0.8784\n",
      "Epoch 29/30\n",
      "5894/5894 [==============================] - 27s - loss: 0.0619 - acc: 0.9800 - val_loss: 1.0079 - val_acc: 0.7705\n",
      "Epoch 30/30\n",
      "5894/5894 [==============================] - 28s - loss: 0.0854 - acc: 0.9725 - val_loss: 1.0214 - val_acc: 0.7735\n"
     ]
    }
   ],
   "source": [
    "history = model.fit(X, to_categorical(Y, nb_classes=10),\n",
    "                    callbacks=[EarlyStopping('val_loss', patience=10),\n",
    "                               ModelCheckpoint(weight_fn, save_best_only=True)],\n",
    "                    validation_split=0.25, batch_size=32, shuffle=True,\n",
    "                    nb_epoch=30)"
   ]
  },
  {
   "cell_type": "code",
   "execution_count": 472,
   "metadata": {
    "collapsed": false
   },
   "outputs": [],
   "source": [
    "model.load_weights(weight_fn)"
   ]
  },
  {
   "cell_type": "code",
   "execution_count": 444,
   "metadata": {
    "collapsed": false
   },
   "outputs": [
    {
     "name": "stdout",
     "output_type": "stream",
     "text": [
      "1\n",
      "873/873 [==============================] - 0s     \n"
     ]
    },
    {
     "data": {
      "text/plain": [
       "[1.2636298434158098, 0.63917525800506136]"
      ]
     },
     "execution_count": 444,
     "metadata": {},
     "output_type": "execute_result"
    }
   ],
   "source": [
    "print(N_HARM)\n",
    "model.evaluate(Xt, to_categorical(Yt))"
   ]
  },
  {
   "cell_type": "code",
   "execution_count": 455,
   "metadata": {
    "collapsed": false
   },
   "outputs": [
    {
     "name": "stdout",
     "output_type": "stream",
     "text": [
      "2\n",
      "873/873 [==============================] - 1s     \n"
     ]
    },
    {
     "data": {
      "text/plain": [
       "[1.9734076197341273, 0.64261168412189984]"
      ]
     },
     "execution_count": 455,
     "metadata": {},
     "output_type": "execute_result"
    }
   ],
   "source": [
    "print(N_HARM)\n",
    "model.evaluate(Xt, to_categorical(Yt))"
   ]
  },
  {
   "cell_type": "code",
   "execution_count": 464,
   "metadata": {
    "collapsed": false
   },
   "outputs": [
    {
     "name": "stdout",
     "output_type": "stream",
     "text": [
      "3\n",
      "873/873 [==============================] - 1s     \n"
     ]
    },
    {
     "data": {
      "text/plain": [
       "[1.8012274783638063, 0.61282932437435733]"
      ]
     },
     "execution_count": 464,
     "metadata": {},
     "output_type": "execute_result"
    }
   ],
   "source": [
    "print(N_HARM)\n",
    "model.evaluate(Xt, to_categorical(Yt))"
   ]
  },
  {
   "cell_type": "code",
   "execution_count": 473,
   "metadata": {
    "collapsed": false
   },
   "outputs": [
    {
     "name": "stdout",
     "output_type": "stream",
     "text": [
      "4\n",
      "873/873 [==============================] - 2s     \n"
     ]
    },
    {
     "data": {
      "text/plain": [
       "[1.5287588606721894, 0.67697594529028471]"
      ]
     },
     "execution_count": 473,
     "metadata": {},
     "output_type": "execute_result"
    }
   ],
   "source": [
    "print(N_HARM)\n",
    "model.evaluate(Xt, to_categorical(Yt))"
   ]
  }
 ],
 "metadata": {
  "anaconda-cloud": {},
  "kernelspec": {
   "display_name": "Python [conda env:py35]",
   "language": "python",
   "name": "conda-env-py35-py"
  },
  "language_info": {
   "codemirror_mode": {
    "name": "ipython",
    "version": 3
   },
   "file_extension": ".py",
   "mimetype": "text/x-python",
   "name": "python",
   "nbconvert_exporter": "python",
   "pygments_lexer": "ipython3",
   "version": "3.5.2"
  }
 },
 "nbformat": 4,
 "nbformat_minor": 1
}
