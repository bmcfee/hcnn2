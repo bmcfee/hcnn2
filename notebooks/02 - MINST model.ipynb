{
 "cells": [
  {
   "cell_type": "code",
   "execution_count": 1,
   "metadata": {
    "collapsed": false
   },
   "outputs": [
    {
     "name": "stderr",
     "output_type": "stream",
     "text": [
      "Using TensorFlow backend.\n"
     ]
    }
   ],
   "source": [
    "import os\n",
    "import json\n",
    "\n",
    "import numpy as np\n",
    "import pandas\n",
    "\n",
    "\n",
    "from keras.models import Sequential\n",
    "from keras.layers import Dense, Conv2D, BatchNormalization, Activation, InputLayer, LeakyReLU, Reshape, Flatten\n",
    "from keras.layers.pooling import MaxPooling1D, MaxPooling2D, AveragePooling1D, AveragePooling2D\n",
    "\n",
    "from keras.utils.np_utils import to_categorical\n",
    "from keras.callbacks import EarlyStopping, ModelCheckpoint\n",
    "\n",
    "from keras.optimizers import Adam\n",
    "\n",
    "import librosa"
   ]
  },
  {
   "cell_type": "code",
   "execution_count": 2,
   "metadata": {
    "collapsed": true
   },
   "outputs": [],
   "source": [
    "def load_index(fold_id, key='train', n=None):\n",
    "    \n",
    "    with open(os.path.join(DESTDIR, 'experiment_{:02d}.json'.format(fold_id)), 'r') as fdesc:\n",
    "        index = json.load(fdesc)[key]\n",
    "    \n",
    "    perm = np.random.permutation(len(index))\n",
    "    if n is not None:\n",
    "        perm = perm[:n]\n",
    "        \n",
    "    index = [index[_] for _ in perm]\n",
    "    \n",
    "    return index"
   ]
  },
  {
   "cell_type": "code",
   "execution_count": 3,
   "metadata": {
    "collapsed": true
   },
   "outputs": [],
   "source": [
    "def preprocess(X):\n",
    "    return librosa.logamplitude(X**2, ref_power=np.max, top_db=80)\n",
    "\n",
    "\n",
    "def load_data(index, n_harm=1):\n",
    "    \n",
    "    X, Y = [], []\n",
    "    for item in index:\n",
    "        with np.load(os.path.join(DESTDIR, 'features', '{}.npz'.format(item['filename']))) as data:\n",
    "            if n_harm is None:\n",
    "                n_harm = data['C'].shape[0]\n",
    "            X.append(preprocess(data['C'][:n_harm]))\n",
    "            Y.append(item['classID'])\n",
    "    \n",
    "    X = np.asarray(X).swapaxes(3, 1)\n",
    "    Y = np.asarray(Y)\n",
    "    \n",
    "    return X, Y"
   ]
  },
  {
   "cell_type": "code",
   "execution_count": 4,
   "metadata": {
    "collapsed": true
   },
   "outputs": [],
   "source": [
    "DESTDIR = '/home/bmcfee/working/minst/'"
   ]
  },
  {
   "cell_type": "code",
   "execution_count": 5,
   "metadata": {
    "collapsed": true
   },
   "outputs": [],
   "source": [
    "FOLD_ID = 1"
   ]
  },
  {
   "cell_type": "code",
   "execution_count": 6,
   "metadata": {
    "collapsed": true
   },
   "outputs": [],
   "source": [
    "index = load_index(FOLD_ID)"
   ]
  },
  {
   "cell_type": "code",
   "execution_count": 7,
   "metadata": {
    "collapsed": false
   },
   "outputs": [],
   "source": [
    "test_index = load_index(FOLD_ID, key='test')"
   ]
  },
  {
   "cell_type": "code",
   "execution_count": 38,
   "metadata": {
    "collapsed": true
   },
   "outputs": [],
   "source": [
    "N_HARM = 4"
   ]
  },
  {
   "cell_type": "code",
   "execution_count": 39,
   "metadata": {
    "collapsed": false
   },
   "outputs": [],
   "source": [
    "X, Y = load_data(index, n_harm=N_HARM)"
   ]
  },
  {
   "cell_type": "code",
   "execution_count": 40,
   "metadata": {
    "collapsed": false
   },
   "outputs": [],
   "source": [
    "Xt, Yt = load_data(test_index, n_harm=N_HARM)"
   ]
  },
  {
   "cell_type": "code",
   "execution_count": 41,
   "metadata": {
    "collapsed": false
   },
   "outputs": [
    {
     "data": {
      "text/plain": [
       "(35480, 44, 252, 4)"
      ]
     },
     "execution_count": 41,
     "metadata": {},
     "output_type": "execute_result"
    }
   ],
   "source": [
    "X.shape"
   ]
  },
  {
   "cell_type": "code",
   "execution_count": 42,
   "metadata": {
    "collapsed": false
   },
   "outputs": [],
   "source": [
    "model = Sequential()\n",
    "\n",
    "model.add(InputLayer(input_shape=X.shape[1:], name='input'))\n",
    "model.add(BatchNormalization())\n",
    "\n",
    "model.add(Conv2D(16, 5, (4 - X.shape[3] + 1) * 5, bias=False))\n",
    "\n",
    "model.add(BatchNormalization())\n",
    "model.add(LeakyReLU(alpha=0.1))\n",
    "\n",
    "model.add(MaxPooling2D(pool_size=(5, 5)))\n",
    "\n",
    "model.add(Conv2D(32, 5, 5,  bias=False))\n",
    "model.add(BatchNormalization())\n",
    "model.add(LeakyReLU(alpha=0.1))\n",
    "\n",
    "#model.add(MaxPooling2D(pool_size=(5, 5)))\n",
    "\n",
    "model.add(Conv2D(64, 3, model.output_shape[2], bias=False))\n",
    "model.add(BatchNormalization())\n",
    "model.add(LeakyReLU(alpha=0.1))\n",
    "\n",
    "\n",
    "model.add(AveragePooling2D(pool_size=(model.output_shape[1], 1)))\n",
    "model.add(Flatten())\n",
    "\n",
    "model.add(Dense(12, activation='softmax'))\n",
    "\n"
   ]
  },
  {
   "cell_type": "code",
   "execution_count": 43,
   "metadata": {
    "collapsed": true
   },
   "outputs": [],
   "source": [
    "model.compile(Adam(), 'categorical_crossentropy', metrics=['accuracy'])"
   ]
  },
  {
   "cell_type": "code",
   "execution_count": 44,
   "metadata": {
    "collapsed": true
   },
   "outputs": [],
   "source": [
    "weight_fn = '/home/bmcfee/working/minst/models_{}.hdf5'.format(N_HARM)"
   ]
  },
  {
   "cell_type": "code",
   "execution_count": 45,
   "metadata": {
    "collapsed": false
   },
   "outputs": [
    {
     "name": "stdout",
     "output_type": "stream",
     "text": [
      "Train on 26610 samples, validate on 8870 samples\n",
      "Epoch 1/30\n",
      "26610/26610 [==============================] - 34s - loss: 0.3086 - acc: 0.9130 - val_loss: 0.1231 - val_acc: 0.9625\n",
      "Epoch 2/30\n",
      "26610/26610 [==============================] - 33s - loss: 0.0802 - acc: 0.9779 - val_loss: 0.0668 - val_acc: 0.9781\n",
      "Epoch 3/30\n",
      "26610/26610 [==============================] - 33s - loss: 0.0473 - acc: 0.9860 - val_loss: 0.0569 - val_acc: 0.9829\n",
      "Epoch 4/30\n",
      "26610/26610 [==============================] - 33s - loss: 0.0384 - acc: 0.9888 - val_loss: 0.0370 - val_acc: 0.9909\n",
      "Epoch 5/30\n",
      "26610/26610 [==============================] - 33s - loss: 0.0272 - acc: 0.9918 - val_loss: 0.0493 - val_acc: 0.9835\n",
      "Epoch 6/30\n",
      "26610/26610 [==============================] - 33s - loss: 0.0263 - acc: 0.9923 - val_loss: 0.0292 - val_acc: 0.9921\n",
      "Epoch 7/30\n",
      "26610/26610 [==============================] - 33s - loss: 0.0229 - acc: 0.9926 - val_loss: 0.0405 - val_acc: 0.9873\n",
      "Epoch 8/30\n",
      "26610/26610 [==============================] - 33s - loss: 0.0158 - acc: 0.9953 - val_loss: 0.0333 - val_acc: 0.9896\n",
      "Epoch 9/30\n",
      "26610/26610 [==============================] - 33s - loss: 0.0213 - acc: 0.9927 - val_loss: 0.0363 - val_acc: 0.9877\n",
      "Epoch 10/30\n",
      "26610/26610 [==============================] - 33s - loss: 0.0121 - acc: 0.9966 - val_loss: 0.0245 - val_acc: 0.9930\n",
      "Epoch 11/30\n",
      "26610/26610 [==============================] - 33s - loss: 0.0113 - acc: 0.9967 - val_loss: 0.0240 - val_acc: 0.9933\n",
      "Epoch 12/30\n",
      "26610/26610 [==============================] - 33s - loss: 0.0157 - acc: 0.9951 - val_loss: 0.0208 - val_acc: 0.9932\n",
      "Epoch 13/30\n",
      "26610/26610 [==============================] - 33s - loss: 0.0093 - acc: 0.9976 - val_loss: 0.0287 - val_acc: 0.9906\n",
      "Epoch 14/30\n",
      "26610/26610 [==============================] - 33s - loss: 0.0092 - acc: 0.9972 - val_loss: 0.0300 - val_acc: 0.9915\n",
      "Epoch 15/30\n",
      "26610/26610 [==============================] - 33s - loss: 0.0090 - acc: 0.9974 - val_loss: 0.0267 - val_acc: 0.9910\n",
      "Epoch 16/30\n",
      "26610/26610 [==============================] - 33s - loss: 0.0071 - acc: 0.9979 - val_loss: 0.0152 - val_acc: 0.9949\n",
      "Epoch 17/30\n",
      "26610/26610 [==============================] - 33s - loss: 0.0081 - acc: 0.9977 - val_loss: 0.0171 - val_acc: 0.9945\n",
      "Epoch 18/30\n",
      "26610/26610 [==============================] - 33s - loss: 0.0100 - acc: 0.9971 - val_loss: 0.0253 - val_acc: 0.9915\n",
      "Epoch 19/30\n",
      "26610/26610 [==============================] - 33s - loss: 0.0049 - acc: 0.9985 - val_loss: 0.0229 - val_acc: 0.9944\n",
      "Epoch 20/30\n",
      "26610/26610 [==============================] - 33s - loss: 0.0107 - acc: 0.9966 - val_loss: 0.0161 - val_acc: 0.9955\n",
      "Epoch 21/30\n",
      "26610/26610 [==============================] - 33s - loss: 0.0059 - acc: 0.9983 - val_loss: 0.0177 - val_acc: 0.9947\n",
      "Epoch 22/30\n",
      "26610/26610 [==============================] - 33s - loss: 0.0033 - acc: 0.9992 - val_loss: 0.0302 - val_acc: 0.9902\n",
      "Epoch 23/30\n",
      "26610/26610 [==============================] - 33s - loss: 0.0057 - acc: 0.9982 - val_loss: 0.0202 - val_acc: 0.9933\n",
      "Epoch 24/30\n",
      "26610/26610 [==============================] - 33s - loss: 0.0039 - acc: 0.9991 - val_loss: 0.0113 - val_acc: 0.9963\n",
      "Epoch 25/30\n",
      "26610/26610 [==============================] - 33s - loss: 0.0090 - acc: 0.9975 - val_loss: 0.0175 - val_acc: 0.9952\n",
      "Epoch 26/30\n",
      "26610/26610 [==============================] - 33s - loss: 0.0055 - acc: 0.9982 - val_loss: 0.0203 - val_acc: 0.9938\n",
      "Epoch 27/30\n",
      "26610/26610 [==============================] - 33s - loss: 0.0023 - acc: 0.9994 - val_loss: 0.0120 - val_acc: 0.9966\n",
      "Epoch 28/30\n",
      "26610/26610 [==============================] - 33s - loss: 0.0060 - acc: 0.9980 - val_loss: 0.0185 - val_acc: 0.9944\n",
      "Epoch 29/30\n",
      "26610/26610 [==============================] - 33s - loss: 0.0055 - acc: 0.9982 - val_loss: 0.0260 - val_acc: 0.9919\n",
      "Epoch 30/30\n",
      "26610/26610 [==============================] - 33s - loss: 0.0028 - acc: 0.9994 - val_loss: 0.0125 - val_acc: 0.9965\n"
     ]
    }
   ],
   "source": [
    "history = model.fit(X, to_categorical(Y, nb_classes=12),\n",
    "                    callbacks=[EarlyStopping('val_loss', patience=10),\n",
    "                               ModelCheckpoint(weight_fn, save_best_only=True)],\n",
    "                    validation_split=0.25, batch_size=32, shuffle=True,\n",
    "                    nb_epoch=30)"
   ]
  },
  {
   "cell_type": "code",
   "execution_count": 46,
   "metadata": {
    "collapsed": false
   },
   "outputs": [],
   "source": [
    "model.load_weights(weight_fn)"
   ]
  },
  {
   "cell_type": "code",
   "execution_count": 17,
   "metadata": {
    "collapsed": false
   },
   "outputs": [
    {
     "name": "stdout",
     "output_type": "stream",
     "text": [
      "1\n",
      "3417/3417 [==============================] - 1s     \n"
     ]
    },
    {
     "data": {
      "text/plain": [
       "[2.574191954284514, 0.59262510936163237]"
      ]
     },
     "execution_count": 17,
     "metadata": {},
     "output_type": "execute_result"
    }
   ],
   "source": [
    "print(N_HARM)\n",
    "model.evaluate(Xt, to_categorical(Yt))"
   ]
  },
  {
   "cell_type": "code",
   "execution_count": 27,
   "metadata": {
    "collapsed": false
   },
   "outputs": [
    {
     "name": "stdout",
     "output_type": "stream",
     "text": [
      "2\n",
      "3417/3417 [==============================] - 1s     \n"
     ]
    },
    {
     "data": {
      "text/plain": [
       "[2.0970507852508549, 0.59321041842598232]"
      ]
     },
     "execution_count": 27,
     "metadata": {},
     "output_type": "execute_result"
    }
   ],
   "source": [
    "print(N_HARM)\n",
    "model.evaluate(Xt, to_categorical(Yt))"
   ]
  },
  {
   "cell_type": "code",
   "execution_count": 37,
   "metadata": {
    "collapsed": false
   },
   "outputs": [
    {
     "name": "stdout",
     "output_type": "stream",
     "text": [
      "3\n",
      "3417/3417 [==============================] - 1s     \n"
     ]
    },
    {
     "data": {
      "text/plain": [
       "[2.438846124868697, 0.58208955188993472]"
      ]
     },
     "execution_count": 37,
     "metadata": {},
     "output_type": "execute_result"
    }
   ],
   "source": [
    "print(N_HARM)\n",
    "model.evaluate(Xt, to_categorical(Yt))"
   ]
  },
  {
   "cell_type": "code",
   "execution_count": 47,
   "metadata": {
    "collapsed": false
   },
   "outputs": [
    {
     "name": "stdout",
     "output_type": "stream",
     "text": [
      "4\n",
      "3417/3417 [==============================] - 1s     \n"
     ]
    },
    {
     "data": {
      "text/plain": [
       "[2.5461347863309243, 0.58940591139161247]"
      ]
     },
     "execution_count": 47,
     "metadata": {},
     "output_type": "execute_result"
    }
   ],
   "source": [
    "print(N_HARM)\n",
    "model.evaluate(Xt, to_categorical(Yt))"
   ]
  }
 ],
 "metadata": {
  "anaconda-cloud": {},
  "kernelspec": {
   "display_name": "Python [conda env:py35]",
   "language": "python",
   "name": "conda-env-py35-py"
  },
  "language_info": {
   "codemirror_mode": {
    "name": "ipython",
    "version": 3
   },
   "file_extension": ".py",
   "mimetype": "text/x-python",
   "name": "python",
   "nbconvert_exporter": "python",
   "pygments_lexer": "ipython3",
   "version": "3.5.2"
  }
 },
 "nbformat": 4,
 "nbformat_minor": 1
}
